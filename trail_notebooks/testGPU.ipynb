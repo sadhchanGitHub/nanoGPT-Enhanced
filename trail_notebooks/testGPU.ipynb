{
 "cells": [
  {
   "cell_type": "code",
   "execution_count": 3,
   "id": "4b673c44-019c-4d09-85c2-d617d5dd8798",
   "metadata": {},
   "outputs": [
    {
     "name": "stdout",
     "output_type": "stream",
     "text": [
      "--- PyTorch GPU Verification ---\n",
      "✅ SUCCESS: CUDA is available!\n",
      "   - Found 1 GPU(s).\n",
      "   - Primary GPU: NVIDIA GeForce RTX 4070 Laptop GPU\n",
      "   - Test computation successful. Tensor created on GPU:\n",
      "     tensor([1., 2., 3.], device='cuda:0')\n",
      "\n",
      "--- Environment is ready for accelerated training. ---\n"
     ]
    }
   ],
   "source": [
    "import torch\n",
    "\n",
    "# The definitive check for GPU availability\n",
    "print(\"--- PyTorch GPU Verification ---\")\n",
    "\n",
    "if torch.cuda.is_available():\n",
    "    gpu_count = torch.cuda.device_count()\n",
    "    gpu_name = torch.cuda.get_device_name(0)\n",
    "    \n",
    "    print(f\"✅ SUCCESS: CUDA is available!\")\n",
    "    print(f\"   - Found {gpu_count} GPU(s).\")\n",
    "    print(f\"   - Primary GPU: {gpu_name}\")\n",
    "    \n",
    "    # Perform a small computation on the GPU to be certain\n",
    "    try:\n",
    "        device = torch.device(\"cuda\")\n",
    "        tensor_on_gpu = torch.tensor([1.0, 2.0, 3.0]).to(device)\n",
    "        print(\"   - Test computation successful. Tensor created on GPU:\")\n",
    "        print(f\"     {tensor_on_gpu}\")\n",
    "        print(\"\\n--- Environment is ready for accelerated training. ---\")\n",
    "    except Exception as e:\n",
    "        print(f\"❌ ERROR: CUDA is available, but a test computation failed.\")\n",
    "        print(f\"   - Error message: {e}\")\n",
    "\n",
    "else:\n",
    "    print(f\"❌ FAILURE: CUDA is NOT available.\")\n",
    "    print(\"   - PyTorch cannot see the GPU.\")\n",
    "    print(\"   - ACTION REQUIRED: Your installation is incomplete. You must diagnose the driver/installation issue or reinstall.\")"
   ]
  },
  {
   "cell_type": "code",
   "execution_count": null,
   "id": "06ed7283-af05-4d0e-9cdd-1da7613cbe00",
   "metadata": {},
   "outputs": [],
   "source": []
  }
 ],
 "metadata": {
  "kernelspec": {
   "display_name": "nanogpt_env",
   "language": "python",
   "name": "nanogpt_env"
  },
  "language_info": {
   "codemirror_mode": {
    "name": "ipython",
    "version": 3
   },
   "file_extension": ".py",
   "mimetype": "text/x-python",
   "name": "python",
   "nbconvert_exporter": "python",
   "pygments_lexer": "ipython3",
   "version": "3.11.13"
  }
 },
 "nbformat": 4,
 "nbformat_minor": 5
}
